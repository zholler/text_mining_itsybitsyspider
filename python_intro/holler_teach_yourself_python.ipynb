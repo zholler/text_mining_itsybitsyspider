{
 "cells": [
  {
   "cell_type": "markdown",
   "metadata": {},
   "source": [
    "## Week 0 HW2\n",
    "\n",
    "1. This assignment is an individual effort.\n",
    "2. Submission to be uploaded into your group repositories in the folder python_intro\n",
    "3. Deadline is 20th of April 5:00 PM.\n",
    "4. Please follow google's [python styleguide](https://google.github.io/styleguide/pyguide.html) for your code. Pay attention to the guidelines for naming convention, comments and main.\n",
    "5. Code will be checked for plagiarism. Compelling signs of a duplicated effort will lead to a rejection of submission and will attract a 100\\% grade penalty.\n"
   ]
  },
  {
   "cell_type": "markdown",
   "metadata": {},
   "source": [
    "### 1\n",
    "Please load the file provided to you by email. Use _json_ module to read it as a list. "
   ]
  },
  {
   "cell_type": "code",
   "execution_count": 1,
   "metadata": {
    "collapsed": false
   },
   "outputs": [],
   "source": [
    "import json\n",
    "\n",
    "#Open connection and read file\n",
    "file_handle = open('1797_Adams_Zsuza.txt')\n",
    "file_content = file_handle.read()\n",
    "#Read as string\n",
    "speech = json.loads(file_content)"
   ]
  },
  {
   "cell_type": "markdown",
   "metadata": {},
   "source": [
    "Notice that type(speech) is list. Please take a moment to go through the python list documentation and check out the various ways to manipulate lists.  "
   ]
  },
  {
   "cell_type": "markdown",
   "metadata": {},
   "source": [
    "###2\n",
    "The first element of the list is the year of speech, the second element is the president who gave it, while the third is the transcript of the same. \n",
    "\n",
    "1. Inspect the transcript. Note the commonly used non-alphanumerical characters. Use an appropriate method of strings to get rid of them.\n",
    "2. Use an appropriate string method to split the string of the speech into a list of smaller list of words.\n",
    "3. Convert all words into lower case and return the list. Use a for loop. Then use a list comprehension to do the same.  "
   ]
  },
  {
   "cell_type": "code",
   "execution_count": 2,
   "metadata": {
    "collapsed": false
   },
   "outputs": [],
   "source": [
    "import re\n",
    "\n",
    "#Get rid of non-alphanumeric\n",
    "stripped_text = re.sub(r'([^\\s\\w]|_)+', ' ',speech[2] )\n",
    "#Create word list\n",
    "word_list = stripped_text.split()\n",
    "#Convert to lower case\n",
    "lower_words = []\n",
    "for word in word_list:\n",
    "    lower_words.append(word.lower())\n",
    "#With list comprehension\n",
    "#lower_words = [word.lower() for word in word_list]"
   ]
  },
  {
   "cell_type": "markdown",
   "metadata": {},
   "source": [
    "### 3\n",
    "Create a function _preprocess_ that takes as arguments _text_ and _non_alphanum_, a string of non-alphanumeric characters that you want get rid of. Perform all operations specfied in the previous question. However, converting to lowercase should be an optional argument. The data structure returned should be a list of words."
   ]
  },
  {
   "cell_type": "code",
   "execution_count": 76,
   "metadata": {
    "collapsed": false
   },
   "outputs": [],
   "source": [
    "#Input: text - string to be processed,  _nonalphanum - non-alphanumeric characters to be removed, \n",
    "#lower - optional argument, if True uotput is transformed to lower-case\n",
    "#Output: List of words in the text\n",
    "def preprocess(text, _nonalphanum, lower = True):\n",
    "    regular_expr = \"([\" + _nonalphanum + \"]|_)+\"\n",
    "    stripped_text = re.sub( regular_expr , ' ',text )\n",
    "    word_list = stripped_text.split()\n",
    "    if lower:\n",
    "        lower_words = [word.lower() for word in word_list]\n",
    "        return(lower_words)\n",
    "    else:\n",
    "        return(word_list)\n"
   ]
  },
  {
   "cell_type": "markdown",
   "metadata": {},
   "source": [
    "### 4\n",
    "Create a function _word_freq_ that takes as input a word list that has been preprocessed and returns a dictionary of the word frequency. Which is the fourth most frequent word of your word list? (Provide code that computes it)"
   ]
  },
  {
   "cell_type": "code",
   "execution_count": 77,
   "metadata": {
    "collapsed": false
   },
   "outputs": [
    {
     "name": "stdout",
     "output_type": "stream",
     "text": [
      "(u'to', 76)\n"
     ]
    }
   ],
   "source": [
    "#Input: wordlist - list of words\n",
    "#Output: Dictionary of word frequency\n",
    "def wordfreq(wordlist):\n",
    "    word_dict = {}\n",
    "    for word in wordlist:\n",
    "        word_dict[word] = word_dict.get(word,0) + 1\n",
    "    return(word_dict)\n",
    "\n",
    "#Take our word list and create disctionary with word frequencies\n",
    "word_dict = wordfreq(lower_words)\n",
    "#Put items of dictionary into a list\n",
    "word_freq = word_dict.items()\n",
    "#Sort list based on values\n",
    "word_freq.sort(key=lambda tup: tup[1], reverse = True)\n",
    "#Print forth most frequent\n",
    "print(word_freq[3])"
   ]
  },
  {
   "cell_type": "markdown",
   "metadata": {},
   "source": [
    "### 5\n",
    "Write a function that takes as input a word list and returns a dictionary of the frequencies of word lengths. Do not use the api collections for this assignment. But have a look at its [documentation](https://docs.python.org/2/library/collections.html). Its useful tool to have in your repository."
   ]
  },
  {
   "cell_type": "code",
   "execution_count": 78,
   "metadata": {
    "collapsed": false
   },
   "outputs": [],
   "source": [
    "#Input: wordlist - list of words\n",
    "#Output: Dictionary of word lengths\n",
    "def wordlength(wordlist):\n",
    "    word_len = {}\n",
    "    for word in wordlist:\n",
    "        length = len(word)\n",
    "        word_len[length] = word_len.get(length,0) + 1\n",
    "    return(word_len)"
   ]
  },
  {
   "cell_type": "markdown",
   "metadata": {},
   "source": [
    "### 6\n",
    "Load the file _sou_all.txt_ in ./data/pres_speech. Inspect its contents. Familiarise yourself with using regular expressions in python. You can use this [document](https://docs.python.org/2/howto/regex.html) as a starting point. Now use regular expressions to seperate the different speeches. Your function should accept the text and a regular expression as input and return a list of lists. Each element of the list should be a list with following structure:\n",
    "\n",
    "1. year\n",
    "2. president\n",
    "3. List of the transcript of the speech broken down into paragraphs.\n",
    "\n",
    "Save your result as json"
   ]
  },
  {
   "cell_type": "code",
   "execution_count": 79,
   "metadata": {
    "collapsed": false
   },
   "outputs": [
    {
     "data": {
      "text/plain": [
       "11834890L"
      ]
     },
     "execution_count": 79,
     "metadata": {},
     "output_type": "execute_result"
    }
   ],
   "source": [
    "import io\n",
    "\n",
    "#Open connection and load file (in utf8 format)\n",
    "file_handle2 = open('sou_all.txt')\n",
    "speeches = file_handle2.read().decode('utf8')\n",
    "\n",
    "#Split the text file into a list, each list element being one speech (split at 10 \"*\" characters)\n",
    "speech_list = re.compile(\"[*]{10}\").split(speeches)\n",
    "speech_list = speech_list[1:]\n",
    "\n",
    "#Separate date, name and speech broken down into paragraphs\n",
    "pattern = re.compile(\"[*]{5}\")\n",
    "newline = re.compile(\"[\\n]*\")\n",
    "for i in range(0,len(speech_list)):\n",
    "    text = speech_list[i]\n",
    "    #Date is always at character 2 to 5\n",
    "    date = text[1:5]\n",
    "    #Rest is the name and the speech, split by 5 \"*\" characters\n",
    "    junk = pattern.split(text[5:])  \n",
    "    #Find name (specified as sequence of words starting with capital letter)\n",
    "    name = \" \".join(re.findall(\"[A-Z][^_]*\",junk[0]))\n",
    "    #Split the speech by linebreak\n",
    "    speech = newline.split(junk[1])[1:-1]\n",
    "    #Define final format\n",
    "    speech_list[i] = [date,name,speech]\n",
    "\n",
    "\n",
    "#Turn python data structure into json and take care of character encoding\n",
    "jsonData = unicode(json.dumps(speech_list,ensure_ascii=False))\n",
    " \n",
    "#Open connection to write out file \n",
    "file_handle3 = io.open('sou_all_mod.json', 'w', encoding=\"utf-8\")\n",
    "#Write out file\n",
    "file_handle3.write(jsonData)"
   ]
  }
 ],
 "metadata": {
  "kernelspec": {
   "display_name": "Python 2",
   "language": "python",
   "name": "python2"
  },
  "language_info": {
   "codemirror_mode": {
    "name": "ipython",
    "version": 2
   },
   "file_extension": ".py",
   "mimetype": "text/x-python",
   "name": "python",
   "nbconvert_exporter": "python",
   "pygments_lexer": "ipython2",
   "version": "2.7.11"
  }
 },
 "nbformat": 4,
 "nbformat_minor": 0
}
